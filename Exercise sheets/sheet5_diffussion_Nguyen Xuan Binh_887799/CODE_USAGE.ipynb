{
 "cells": [
  {
   "cell_type": "markdown",
   "metadata": {},
   "source": [
    "\n",
    "Further instructions on code usage\n",
    "==================================\n",
    "\n",
    "The compilation and job submission scripts for MPI+OpenMP codes are\n",
    "provided in scripts/job_hybrid_example.sh.\n",
    "\n",
    "The number of MPI ranks has to be a factor of the grid dimension (default \n",
    "dimension is 2000). The default initial temperature field is a disk. Initial\n",
    "temperature field can be read also from a file, the provided **bottle.dat** \n",
    "illustrates what happens to a cold soda bottle in sauna.\n",
    "\n",
    "\n",
    " * If the file `HEAT_RESTART.dat` exists, it will be read and produce\n",
    "   the initial field and remember the last iteration step.  No other\n",
    "   options will be used. (To run a restart with a certain number of\n",
    "   iterations, use:\n",
    "     `srun ./heat_mpi - N_ITERATIONS`, with `-` as input filename.)\n",
    " * Running with defaults: `srun <options in your batch file>./heat_mpi`\n",
    " * Bottle in sauna: `srun <options> ./heat_mpi bottle.dat`\n",
    " * Bottle in sauna, given number of time steps:\n",
    "   `srun <options> ./heat_mpi bottle.dat 1000`\n",
    " * Default pattern with given dimensions and time steps:\n",
    "   `srun <options> ./heat_mpi 800 800 1000`\n",
    "\n",
    "  The program produces a series of `heat_XXXX.png` files which show the\n",
    "  time development of the temperature field.\n",
    "\n",
    "You can visualize the png files with any image viewer, the `display`\n",
    "command line program on Triton (if you have graphics forwarding set\n",
    "up), or from Python using the following code:\n",
    "```console\n",
    "$ module load anaconda\n",
    "$ pip3 install matplotlib\n",
    "```\n",
    "```python\n",
    "import matplotlib.pyplot as plt\n",
    "import matplotlib.image as mpimg\n",
    "img = mpimg.imread('heat_1000.png')\n",
    "imgplot = plt.imshow(img)\n",
    "plt.show()\n",
    "```"
   ]
  }
 ],
 "metadata": {
  "language_info": {
   "name": "python"
  }
 },
 "nbformat": 4,
 "nbformat_minor": 2
}
