{
 "cells": [
  {
   "cell_type": "markdown",
   "metadata": {},
   "source": [
    "# MPI SYSTEM CLASS\n",
    "\n",
    "More context here:\n",
    "\n",
    "https://www.codingame.com/playgrounds/349/introduction-to-mpi/mpi_comm_world-size-and-ranks"
   ]
  },
  {
   "cell_type": "markdown",
   "metadata": {},
   "source": [
    "- MPI_Init(&argc, &argv): Communicator set up \n",
    "\n",
    "- MPI_Comm_size(MPI_COMM_WORLD, &size): Get the number of processes\n",
    "\n",
    "- MPI_Comm_rank(MPI_COMM_WORLD, &rank): Get the rank of the process\n",
    "\n",
    "- MPI_Finalize(): Finalize the MPI environment"
   ]
  },
  {
   "cell_type": "markdown",
   "metadata": {},
   "source": [
    "![image.png](SendReceive.png)"
   ]
  },
  {
   "cell_type": "markdown",
   "metadata": {},
   "source": [
    "# MPI SEND CLASS"
   ]
  },
  {
   "cell_type": "markdown",
   "metadata": {},
   "source": [
    "- int **MPI_Sendrecv**(const void *sendbuf, int sendcount, MPI_Datatype sendtype,\n",
    "    int dest, int sendtag, void *recvbuf, int recvcount,\n",
    "    MPI_Datatype recvtype, int source, int recvtag,\n",
    "    MPI_Comm comm, MPI_Status *status): \n",
    "\n",
    "Sends and receives a message with the right choice of source and destination. Then you always need a “pair” to communicate with. If not, then you need to use “MPI_PROC_NULL”"
   ]
  },
  {
   "cell_type": "markdown",
   "metadata": {},
   "source": [
    "- int **MPI_Send**(const void* buf, int count, MPI_Datatype datatype, int dest,int tag, MPI_Comm comm) \n",
    "\n",
    "- int **MPI_Ssend**(const void *buf, int count, MPI_Datatype datatype, int dest, int tag, MPI_Comm comm)\n",
    "\n",
    "• ”S” for “Synchronous”, meaning that the receiver is always forced to send an acknowledge. It will not avoid deadlocks. In this case, all unsafe operations should always deadlock, helping you out to debug and write “safer” code\n",
    "\n",
    "- int **MPI_Bsend**(const void *buf, int count, MPI_Datatype datatype, int dest, int tag, MPI_Comm comm)\n",
    "\n",
    "User is responsible for allocating large enough buffers\n",
    "\n",
    "- int MPI_Isend(const void *buf, int count, MPI_Datatype datatype, int dest,\n",
    "int tag, MPI_Comm comm, MPI_Request *request)\n",
    "\n",
    "Immediate or Incomplete. “Here is my data, please send it forward as I instruct” or “I am expecting certain type of data to come to this provided buffer space”."
   ]
  },
  {
   "cell_type": "markdown",
   "metadata": {},
   "source": [
    "# MPI RECEIVE CLASS"
   ]
  },
  {
   "cell_type": "markdown",
   "metadata": {},
   "source": [
    "- int MPI_Recv(void* buf, int count, MPI_Datatype datatype, int source,int tag, MPI_Comm comm, MPI_Status *status)\n",
    "\n",
    "- int MPI_Irecv(void *buf, int count, MPI_Datatype datatype, int source, int\n",
    "tag, MPI_Comm comm, MPI_Request *request)\n",
    "Immediate or Incomplete\n",
    "Non-blocking routines yield an MPI_Request object. This request can then\n",
    "be used to query whether the operation has completed. MPI_Irecv routine\n",
    "does not yield an MPI_Status object. This is because the status object\n",
    "describes the actually received data, and at the completion of\n",
    "the MPI_Irecv call there is no received data yet."
   ]
  },
  {
   "cell_type": "markdown",
   "metadata": {},
   "source": [
    "MPI_Info info;\n",
    "MPI_Win window;\n",
    "MPI_Win_create( /* size info */, info, comm, &memory, &window );\n",
    "// do put and get calls\n",
    "MPI_Win_free( &window );"
   ]
  },
  {
   "cell_type": "markdown",
   "metadata": {},
   "source": [
    "One sided communication typical workflow\n",
    "\n",
    "MPI_Info info;\n",
    "\n",
    "MPI_Win window;\n",
    "\n",
    "MPI_Win_create( /* size info */, info, comm, &memory, &window );\n",
    "\n",
    "// do put and get calls\n",
    "\n",
    "MPI_Win_free( &window );"
   ]
  }
 ],
 "metadata": {
  "language_info": {
   "name": "python"
  }
 },
 "nbformat": 4,
 "nbformat_minor": 2
}
